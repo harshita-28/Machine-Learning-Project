{
  "nbformat": 4,
  "nbformat_minor": 0,
  "metadata": {
    "colab": {
      "name": "iris flowers classification.ipynb",
      "provenance": [],
      "authorship_tag": "ABX9TyM3+uTU9+heHXMY5j3AogMf",
      "include_colab_link": true
    },
    "kernelspec": {
      "name": "python3",
      "display_name": "Python 3"
    },
    "language_info": {
      "name": "python"
    }
  },
  "cells": [
    {
      "cell_type": "markdown",
      "metadata": {
        "id": "view-in-github",
        "colab_type": "text"
      },
      "source": [
        "<a href=\"https://colab.research.google.com/github/harshita-28/Machine-Learning-Projects/blob/main/iris_flowers_classification.ipynb\" target=\"_parent\"><img src=\"https://colab.research.google.com/assets/colab-badge.svg\" alt=\"Open In Colab\"/></a>"
      ]
    },
    {
      "cell_type": "code",
      "metadata": {
        "id": "igb8TKjdGHwW"
      },
      "source": [
        "#importing the libraries\n",
        " \n",
        "import numpy as np\n",
        "import matplotlib.pyplot as plt\n",
        "import pandas as pd\n",
        " \n",
        "#importing our iris flowers dataset\n",
        " \n",
        "dataset = pd.read_csv('iris_flowers.csv')\n",
        " \n",
        "#defining features and target\n",
        " \n",
        "X = dataset.iloc[:, 1:4].values\n",
        "Y = dataset.iloc[:,4].values"
      ],
      "execution_count": null,
      "outputs": []
    },
    {
      "cell_type": "code",
      "metadata": {
        "colab": {
          "base_uri": "https://localhost:8080/",
          "height": 203
        },
        "id": "DuelYojnKYPe",
        "outputId": "6f756558-5d23-481f-b94b-4c0a876a8603"
      },
      "source": [
        "#examine dataset\n",
        "\n",
        "dataset.head()"
      ],
      "execution_count": null,
      "outputs": [
        {
          "output_type": "execute_result",
          "data": {
            "text/html": [
              "<div>\n",
              "<style scoped>\n",
              "    .dataframe tbody tr th:only-of-type {\n",
              "        vertical-align: middle;\n",
              "    }\n",
              "\n",
              "    .dataframe tbody tr th {\n",
              "        vertical-align: top;\n",
              "    }\n",
              "\n",
              "    .dataframe thead th {\n",
              "        text-align: right;\n",
              "    }\n",
              "</style>\n",
              "<table border=\"1\" class=\"dataframe\">\n",
              "  <thead>\n",
              "    <tr style=\"text-align: right;\">\n",
              "      <th></th>\n",
              "      <th>sepal_length</th>\n",
              "      <th>sepal_width</th>\n",
              "      <th>petal_length</th>\n",
              "      <th>petal_width</th>\n",
              "      <th>class</th>\n",
              "    </tr>\n",
              "  </thead>\n",
              "  <tbody>\n",
              "    <tr>\n",
              "      <th>0</th>\n",
              "      <td>5.1</td>\n",
              "      <td>3.5</td>\n",
              "      <td>1.4</td>\n",
              "      <td>0.2</td>\n",
              "      <td>iris_setosa</td>\n",
              "    </tr>\n",
              "    <tr>\n",
              "      <th>1</th>\n",
              "      <td>4.9</td>\n",
              "      <td>3.0</td>\n",
              "      <td>1.4</td>\n",
              "      <td>0.2</td>\n",
              "      <td>iris_setosa</td>\n",
              "    </tr>\n",
              "    <tr>\n",
              "      <th>2</th>\n",
              "      <td>4.7</td>\n",
              "      <td>3.2</td>\n",
              "      <td>1.3</td>\n",
              "      <td>0.2</td>\n",
              "      <td>iris_setosa</td>\n",
              "    </tr>\n",
              "    <tr>\n",
              "      <th>3</th>\n",
              "      <td>4.6</td>\n",
              "      <td>3.1</td>\n",
              "      <td>1.5</td>\n",
              "      <td>0.2</td>\n",
              "      <td>iris_setosa</td>\n",
              "    </tr>\n",
              "    <tr>\n",
              "      <th>4</th>\n",
              "      <td>5.0</td>\n",
              "      <td>3.6</td>\n",
              "      <td>1.4</td>\n",
              "      <td>0.2</td>\n",
              "      <td>iris_setosa</td>\n",
              "    </tr>\n",
              "  </tbody>\n",
              "</table>\n",
              "</div>"
            ],
            "text/plain": [
              "   sepal_length  sepal_width  petal_length  petal_width        class\n",
              "0           5.1          3.5           1.4          0.2  iris_setosa\n",
              "1           4.9          3.0           1.4          0.2  iris_setosa\n",
              "2           4.7          3.2           1.3          0.2  iris_setosa\n",
              "3           4.6          3.1           1.5          0.2  iris_setosa\n",
              "4           5.0          3.6           1.4          0.2  iris_setosa"
            ]
          },
          "metadata": {
            "tags": []
          },
          "execution_count": 8
        }
      ]
    },
    {
      "cell_type": "code",
      "metadata": {
        "colab": {
          "base_uri": "https://localhost:8080/"
        },
        "id": "WETWU0x4K6J1",
        "outputId": "ffd5ba08-b603-4c1c-ea49-0b4e856820b4"
      },
      "source": [
        "#finding dimensions of dataset\n",
        "\n",
        "print(\"iris_flowers dataset dimensions: {}\".format(dataset.shape))"
      ],
      "execution_count": null,
      "outputs": [
        {
          "output_type": "stream",
          "text": [
            "iris_flowers dataset dimensions: (150, 5)\n"
          ],
          "name": "stdout"
        }
      ]
    },
    {
      "cell_type": "code",
      "metadata": {
        "colab": {
          "base_uri": "https://localhost:8080/"
        },
        "id": "00lFR9u-MNef",
        "outputId": "d215a302-a72d-4bb5-9c8c-a90effb05e63"
      },
      "source": [
        "#finding any null or missing points within dataset\n",
        "\n",
        "dataset.isnull().sum()"
      ],
      "execution_count": null,
      "outputs": [
        {
          "output_type": "execute_result",
          "data": {
            "text/plain": [
              "sepal_length    0\n",
              "sepal_width     0\n",
              "petal_length    0\n",
              "petal_width     0\n",
              "class           0\n",
              "dtype: int64"
            ]
          },
          "metadata": {
            "tags": []
          },
          "execution_count": 10
        }
      ]
    },
    {
      "cell_type": "code",
      "metadata": {
        "colab": {
          "base_uri": "https://localhost:8080/"
        },
        "id": "ms6Zhd7EMi8f",
        "outputId": "6ba7d3b4-cd79-4701-d926-ddc270f0c528"
      },
      "source": [
        "#encoding categorical data values\n",
        "\n",
        "from sklearn.preprocessing import LabelEncoder\n",
        "labelencoder_Y = LabelEncoder()\n",
        "Y = labelencoder_Y.fit_transform(Y)\n",
        "print (Y)"
      ],
      "execution_count": null,
      "outputs": [
        {
          "output_type": "stream",
          "text": [
            "[0 0 0 0 0 0 0 0 0 0 0 0 0 0 0 0 0 0 0 0 0 0 0 0 0 0 0 0 0 0 0 0 0 0 0 0 0\n",
            " 0 0 0 0 0 0 0 0 0 0 0 0 0 1 1 1 1 1 1 1 1 1 1 1 1 1 1 1 1 1 1 1 1 1 1 1 1\n",
            " 1 1 1 1 1 1 1 1 1 1 1 1 1 1 1 1 1 1 1 1 1 1 1 1 1 1 2 2 2 2 2 2 2 2 2 2 2\n",
            " 2 2 2 2 2 2 2 2 2 2 2 2 2 2 2 2 2 2 2 2 2 2 2 2 2 2 2 2 2 2 2 2 2 2 2 2 2\n",
            " 2 2]\n"
          ],
          "name": "stdout"
        }
      ]
    },
    {
      "cell_type": "code",
      "metadata": {
        "id": "gOTPlUenOhYo"
      },
      "source": [
        "#splitting dataset into 75% Training set and 25% Test set\n",
        "\n",
        "from sklearn.model_selection import train_test_split\n",
        "X_train, X_test, Y_train, Y_test = train_test_split (X, Y, test_size = 0.25, random_state = 0)"
      ],
      "execution_count": null,
      "outputs": []
    },
    {
      "cell_type": "code",
      "metadata": {
        "id": "u0xtWTj1Plez"
      },
      "source": [
        "#Feature scaling , standardizing features\n",
        "\n",
        "from sklearn.preprocessing import StandardScaler\n",
        "sc = StandardScaler()\n",
        "X_train = sc.fit_transform(X_train)\n",
        "X_test = sc.transform(X_test)"
      ],
      "execution_count": null,
      "outputs": []
    },
    {
      "cell_type": "code",
      "metadata": {
        "id": "v20kacJ8QHC7"
      },
      "source": [
        "#importing for stats\n",
        "\n",
        "from sklearn.metrics import accuracy_score"
      ],
      "execution_count": null,
      "outputs": []
    },
    {
      "cell_type": "code",
      "metadata": {
        "colab": {
          "base_uri": "https://localhost:8080/"
        },
        "id": "TrqoOLqiQb2K",
        "outputId": "f8978a4e-1645-47f6-f31e-2f97c9a5def7"
      },
      "source": [
        "#Using KNN \n",
        "\n",
        "from sklearn.neighbors import KNeighborsClassifier\n",
        "classifier_1 = KNeighborsClassifier(n_neighbors = 5, metric = 'minkowski', p = 2)\n",
        "classifier_1.fit(X_train, Y_train)\n",
        "Y_pred1 = classifier_1.predict(X_test)\n",
        "print (accuracy_score(Y_test, Y_pred1))"
      ],
      "execution_count": null,
      "outputs": [
        {
          "output_type": "stream",
          "text": [
            "0.9736842105263158\n"
          ],
          "name": "stdout"
        }
      ]
    },
    {
      "cell_type": "code",
      "metadata": {
        "colab": {
          "base_uri": "https://localhost:8080/"
        },
        "id": "wQ4t1WG6TI6L",
        "outputId": "74a98ae3-d5a7-4ac4-cdd9-0a660add7e9b"
      },
      "source": [
        "#confusion matrix for KNN\n",
        "\n",
        "from sklearn.metrics import confusion_matrix\n",
        "cm1 = confusion_matrix(Y_test, Y_pred1)\n",
        "print(cm1)"
      ],
      "execution_count": null,
      "outputs": [
        {
          "output_type": "stream",
          "text": [
            "[[13  0  0]\n",
            " [ 0 15  1]\n",
            " [ 0  0  9]]\n"
          ],
          "name": "stdout"
        }
      ]
    },
    {
      "cell_type": "code",
      "metadata": {
        "colab": {
          "base_uri": "https://localhost:8080/"
        },
        "id": "BoA0phu3TSQp",
        "outputId": "4621e6ee-a23c-41f0-c363-f8fda912de38"
      },
      "source": [
        "#Using SVM with linear kernel\n",
        "\n",
        "from sklearn.svm import SVC\n",
        "classifier_2 = SVC(kernel = 'linear', random_state = 0)\n",
        "classifier_2.fit(X_train, Y_train)\n",
        "Y_pred2 = classifier_2.predict(X_test)\n",
        "print (accuracy_score(Y_test, Y_pred2))"
      ],
      "execution_count": null,
      "outputs": [
        {
          "output_type": "stream",
          "text": [
            "0.9736842105263158\n"
          ],
          "name": "stdout"
        }
      ]
    },
    {
      "cell_type": "code",
      "metadata": {
        "id": "MHMX1KuyUuAR"
      },
      "source": [
        ""
      ],
      "execution_count": null,
      "outputs": []
    },
    {
      "cell_type": "code",
      "metadata": {
        "colab": {
          "base_uri": "https://localhost:8080/"
        },
        "id": "gPZGinH8TWq3",
        "outputId": "24063c24-4271-4a41-de77-974c41ccb97b"
      },
      "source": [
        "#confusion matrix for SVM with linear kernel\n",
        "\n",
        "cm2 = confusion_matrix(Y_test, Y_pred2)\n",
        "print(cm2)"
      ],
      "execution_count": null,
      "outputs": [
        {
          "output_type": "stream",
          "text": [
            "[[13  0  0]\n",
            " [ 0 15  1]\n",
            " [ 0  0  9]]\n"
          ],
          "name": "stdout"
        }
      ]
    },
    {
      "cell_type": "code",
      "metadata": {
        "colab": {
          "base_uri": "https://localhost:8080/"
        },
        "id": "PUP3mb_DTdbj",
        "outputId": "c99d5928-b76c-4808-fd29-3ec523dd66f1"
      },
      "source": [
        "#Using SVM with rbf kernel\n",
        "\n",
        "classifier_3 = SVC(kernel = 'rbf', random_state = 0)\n",
        "classifier_3.fit(X_train, Y_train)\n",
        "Y_pred3 = classifier_3.predict(X_test)\n",
        "print(accuracy_score(Y_test, Y_pred3))"
      ],
      "execution_count": null,
      "outputs": [
        {
          "output_type": "stream",
          "text": [
            "0.9736842105263158\n"
          ],
          "name": "stdout"
        }
      ]
    },
    {
      "cell_type": "code",
      "metadata": {
        "colab": {
          "base_uri": "https://localhost:8080/"
        },
        "id": "RWke_6inToRe",
        "outputId": "0465082c-38bd-4141-8eb8-06ee747e2530"
      },
      "source": [
        "#confusion matrix for SVM with rbf kernel\n",
        "\n",
        "cm3 = confusion_matrix(Y_test, Y_pred3)\n",
        "print(cm3)"
      ],
      "execution_count": null,
      "outputs": [
        {
          "output_type": "stream",
          "text": [
            "[[13  0  0]\n",
            " [ 0 15  1]\n",
            " [ 0  0  9]]\n"
          ],
          "name": "stdout"
        }
      ]
    },
    {
      "cell_type": "code",
      "metadata": {
        "colab": {
          "base_uri": "https://localhost:8080/"
        },
        "id": "EZbjGeMLTx6d",
        "outputId": "315769e6-16fa-446e-9dcb-bb2458f51543"
      },
      "source": [
        "#Using Decision Trees\n",
        "\n",
        "from sklearn.tree import DecisionTreeClassifier\n",
        "classifier_4 = DecisionTreeClassifier(criterion = 'entropy', random_state = 0)\n",
        "classifier_4.fit(X_train, Y_train)\n",
        "Y_pred4 = classifier_4.predict(X_test)\n",
        "print(accuracy_score(Y_test, Y_pred4))"
      ],
      "execution_count": null,
      "outputs": [
        {
          "output_type": "stream",
          "text": [
            "0.9736842105263158\n"
          ],
          "name": "stdout"
        }
      ]
    },
    {
      "cell_type": "code",
      "metadata": {
        "colab": {
          "base_uri": "https://localhost:8080/"
        },
        "id": "KA9hISsaT4Qn",
        "outputId": "c0686d98-2db3-4e83-9964-6454211668d8"
      },
      "source": [
        "#confusion matrix for Decision Trees\n",
        "\n",
        "cm4 = confusion_matrix(Y_test, Y_pred4)\n",
        "print(cm4)"
      ],
      "execution_count": null,
      "outputs": [
        {
          "output_type": "stream",
          "text": [
            "[[13  0  0]\n",
            " [ 0 15  1]\n",
            " [ 0  0  9]]\n"
          ],
          "name": "stdout"
        }
      ]
    },
    {
      "cell_type": "code",
      "metadata": {
        "colab": {
          "base_uri": "https://localhost:8080/"
        },
        "id": "uaVhEG6ZU2F0",
        "outputId": "2b87eaee-626b-4af4-eb86-5caac0dc859e"
      },
      "source": [
        "#Using Naive Bayes\n",
        "\n",
        "from sklearn.naive_bayes import GaussianNB\n",
        "classifier_5 = GaussianNB()\n",
        "classifier_5.fit(X_train, Y_train)\n",
        "Y_pred5 = classifier_5.predict(X_test)\n",
        "print(accuracy_score(Y_test, Y_pred5))"
      ],
      "execution_count": null,
      "outputs": [
        {
          "output_type": "stream",
          "text": [
            "0.9736842105263158\n"
          ],
          "name": "stdout"
        }
      ]
    },
    {
      "cell_type": "code",
      "metadata": {
        "colab": {
          "base_uri": "https://localhost:8080/"
        },
        "id": "rYbpmSrUU-WT",
        "outputId": "f97df7b2-7e49-41fc-c370-4a608c2b8f72"
      },
      "source": [
        "#confusion matrix for Naive Bayes\n",
        "\n",
        "cm5 = confusion_matrix(Y_test, Y_pred5)\n",
        "print(cm5)"
      ],
      "execution_count": null,
      "outputs": [
        {
          "output_type": "stream",
          "text": [
            "[[13  0  0]\n",
            " [ 0 15  1]\n",
            " [ 0  0  9]]\n"
          ],
          "name": "stdout"
        }
      ]
    }
  ]
}